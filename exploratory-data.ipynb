{
 "cells": [
  {
   "cell_type": "code",
   "execution_count": 84,
   "metadata": {},
   "outputs": [],
   "source": [
    "import pandas as pd\n"
   ]
  },
  {
   "cell_type": "code",
   "execution_count": 85,
   "metadata": {},
   "outputs": [],
   "source": [
    "df = pd.read_csv('literary_birth_rate.csv', sep=',')"
   ]
  },
  {
   "cell_type": "code",
   "execution_count": 86,
   "metadata": {},
   "outputs": [
    {
     "data": {
      "text/html": [
       "<div>\n",
       "<style scoped>\n",
       "    .dataframe tbody tr th:only-of-type {\n",
       "        vertical-align: middle;\n",
       "    }\n",
       "\n",
       "    .dataframe tbody tr th {\n",
       "        vertical-align: top;\n",
       "    }\n",
       "\n",
       "    .dataframe thead th {\n",
       "        text-align: right;\n",
       "    }\n",
       "</style>\n",
       "<table border=\"1\" class=\"dataframe\">\n",
       "  <thead>\n",
       "    <tr style=\"text-align: right;\">\n",
       "      <th></th>\n",
       "      <th>Country</th>\n",
       "      <th>Continent</th>\n",
       "      <th>female literacy</th>\n",
       "      <th>fertility</th>\n",
       "      <th>population</th>\n",
       "    </tr>\n",
       "  </thead>\n",
       "  <tbody>\n",
       "    <tr>\n",
       "      <th>0</th>\n",
       "      <td>Chine</td>\n",
       "      <td>ASI</td>\n",
       "      <td>90.5</td>\n",
       "      <td>1.769</td>\n",
       "      <td>1,324,655,000</td>\n",
       "    </tr>\n",
       "    <tr>\n",
       "      <th>1</th>\n",
       "      <td>Inde</td>\n",
       "      <td>ASI</td>\n",
       "      <td>50.8</td>\n",
       "      <td>2.682</td>\n",
       "      <td>1,139,964,932</td>\n",
       "    </tr>\n",
       "    <tr>\n",
       "      <th>2</th>\n",
       "      <td>USA</td>\n",
       "      <td>NAM</td>\n",
       "      <td>99.0</td>\n",
       "      <td>2.077</td>\n",
       "      <td>304,060,000</td>\n",
       "    </tr>\n",
       "    <tr>\n",
       "      <th>3</th>\n",
       "      <td>Indonésie</td>\n",
       "      <td>ASI</td>\n",
       "      <td>88.8</td>\n",
       "      <td>2.132</td>\n",
       "      <td>227,345,082</td>\n",
       "    </tr>\n",
       "    <tr>\n",
       "      <th>4</th>\n",
       "      <td>Brésil</td>\n",
       "      <td>LAT</td>\n",
       "      <td>90.2</td>\n",
       "      <td>1.827</td>\n",
       "      <td>191,971,506</td>\n",
       "    </tr>\n",
       "  </tbody>\n",
       "</table>\n",
       "</div>"
      ],
      "text/plain": [
       "    Country  Continent  female literacy fertility     population\n",
       "0      Chine       ASI             90.5     1.769  1,324,655,000\n",
       "1       Inde       ASI             50.8     2.682  1,139,964,932\n",
       "2        USA       NAM             99.0     2.077    304,060,000\n",
       "3  Indonésie       ASI             88.8     2.132    227,345,082\n",
       "4     Brésil       LAT             90.2     1.827    191,971,506"
      ]
     },
     "execution_count": 86,
     "metadata": {},
     "output_type": "execute_result"
    }
   ],
   "source": [
    "##Las primeras 5 filas\n",
    "df.head(5)"
   ]
  },
  {
   "cell_type": "code",
   "execution_count": 87,
   "metadata": {},
   "outputs": [
    {
     "data": {
      "text/html": [
       "<div>\n",
       "<style scoped>\n",
       "    .dataframe tbody tr th:only-of-type {\n",
       "        vertical-align: middle;\n",
       "    }\n",
       "\n",
       "    .dataframe tbody tr th {\n",
       "        vertical-align: top;\n",
       "    }\n",
       "\n",
       "    .dataframe thead th {\n",
       "        text-align: right;\n",
       "    }\n",
       "</style>\n",
       "<table border=\"1\" class=\"dataframe\">\n",
       "  <thead>\n",
       "    <tr style=\"text-align: right;\">\n",
       "      <th></th>\n",
       "      <th>Country</th>\n",
       "      <th>Continent</th>\n",
       "      <th>female literacy</th>\n",
       "      <th>fertility</th>\n",
       "      <th>population</th>\n",
       "    </tr>\n",
       "  </thead>\n",
       "  <tbody>\n",
       "    <tr>\n",
       "      <th>163</th>\n",
       "      <td>Antilles néerlandaises</td>\n",
       "      <td>NaN</td>\n",
       "      <td>96.3</td>\n",
       "      <td>missing</td>\n",
       "      <td>NaN</td>\n",
       "    </tr>\n",
       "    <tr>\n",
       "      <th>164</th>\n",
       "      <td>Iles Caïmanes</td>\n",
       "      <td>NaN</td>\n",
       "      <td>99.0</td>\n",
       "      <td>missing</td>\n",
       "      <td>NaN</td>\n",
       "    </tr>\n",
       "    <tr>\n",
       "      <th>165</th>\n",
       "      <td>Seychelles</td>\n",
       "      <td>NaN</td>\n",
       "      <td>92.3</td>\n",
       "      <td>missing</td>\n",
       "      <td>NaN</td>\n",
       "    </tr>\n",
       "    <tr>\n",
       "      <th>166</th>\n",
       "      <td>Territoires autonomes palestiniens</td>\n",
       "      <td>NaN</td>\n",
       "      <td>90.9</td>\n",
       "      <td>missing</td>\n",
       "      <td>NaN</td>\n",
       "    </tr>\n",
       "    <tr>\n",
       "      <th>167</th>\n",
       "      <td>WORLD</td>\n",
       "      <td>WORLD</td>\n",
       "      <td>77.0</td>\n",
       "      <td>NaN</td>\n",
       "      <td>NaN</td>\n",
       "    </tr>\n",
       "  </tbody>\n",
       "</table>\n",
       "</div>"
      ],
      "text/plain": [
       "                               Country  Continent  female literacy fertility  \\\n",
       "163              Antilles néerlandaises       NaN             96.3   missing   \n",
       "164                       Iles Caïmanes       NaN             99.0   missing   \n",
       "165                          Seychelles       NaN             92.3   missing   \n",
       "166  Territoires autonomes palestiniens       NaN             90.9   missing   \n",
       "167                               WORLD     WORLD             77.0       NaN   \n",
       "\n",
       "    population  \n",
       "163        NaN  \n",
       "164        NaN  \n",
       "165        NaN  \n",
       "166        NaN  \n",
       "167        NaN  "
      ]
     },
     "execution_count": 87,
     "metadata": {},
     "output_type": "execute_result"
    }
   ],
   "source": [
    "##Listar ultimas filas\n",
    "df.tail(5)"
   ]
  },
  {
   "cell_type": "code",
   "execution_count": 88,
   "metadata": {},
   "outputs": [
    {
     "data": {
      "text/plain": [
       "(168, 5)"
      ]
     },
     "execution_count": 88,
     "metadata": {},
     "output_type": "execute_result"
    }
   ],
   "source": [
    "## Filas y columnas\n",
    "df.shape"
   ]
  },
  {
   "cell_type": "code",
   "execution_count": 89,
   "metadata": {},
   "outputs": [
    {
     "data": {
      "text/plain": [
       "Index(['Country ', 'Continent', 'female literacy', 'fertility', 'population'], dtype='object')"
      ]
     },
     "execution_count": 89,
     "metadata": {},
     "output_type": "execute_result"
    }
   ],
   "source": [
    "##Mostrar las columnas del dataset\n",
    "df.columns"
   ]
  },
  {
   "cell_type": "code",
   "execution_count": 90,
   "metadata": {},
   "outputs": [
    {
     "name": "stdout",
     "output_type": "stream",
     "text": [
      "<class 'pandas.core.frame.DataFrame'>\n",
      "RangeIndex: 168 entries, 0 to 167\n",
      "Data columns (total 5 columns):\n",
      "Country            168 non-null object\n",
      "Continent          163 non-null object\n",
      "female literacy    168 non-null float64\n",
      "fertility          167 non-null object\n",
      "population         162 non-null object\n",
      "dtypes: float64(1), object(4)\n",
      "memory usage: 4.0+ KB\n"
     ]
    }
   ],
   "source": [
    "##Conocer la información de los datos\n",
    "df.info()\n",
    "\n",
    "##observaciones, hay menos cantidad en population\n",
    "## population es de tipo objeto"
   ]
  },
  {
   "cell_type": "code",
   "execution_count": 93,
   "metadata": {},
   "outputs": [],
   "source": [
    "df[\"fertility\"] = pd.to_numeric(df[\"fertility\"], errors='coerce')\n",
    "##s, errors='coerce')"
   ]
  },
  {
   "cell_type": "code",
   "execution_count": 82,
   "metadata": {},
   "outputs": [],
   "source": [
    "##df[\"population\"] = pd.to_numeric(df[\"population\"], errors='coerce')"
   ]
  },
  {
   "cell_type": "code",
   "execution_count": 94,
   "metadata": {},
   "outputs": [
    {
     "name": "stdout",
     "output_type": "stream",
     "text": [
      "<class 'pandas.core.frame.DataFrame'>\n",
      "RangeIndex: 168 entries, 0 to 167\n",
      "Data columns (total 5 columns):\n",
      "Country            168 non-null object\n",
      "Continent          163 non-null object\n",
      "female literacy    168 non-null float64\n",
      "fertility          162 non-null float64\n",
      "population         162 non-null object\n",
      "dtypes: float64(2), object(3)\n",
      "memory usage: 4.6+ KB\n"
     ]
    }
   ],
   "source": [
    "df.info()"
   ]
  },
  {
   "cell_type": "code",
   "execution_count": 98,
   "metadata": {},
   "outputs": [
    {
     "data": {
      "text/html": [
       "<div>\n",
       "<style scoped>\n",
       "    .dataframe tbody tr th:only-of-type {\n",
       "        vertical-align: middle;\n",
       "    }\n",
       "\n",
       "    .dataframe tbody tr th {\n",
       "        vertical-align: top;\n",
       "    }\n",
       "\n",
       "    .dataframe thead th {\n",
       "        text-align: right;\n",
       "    }\n",
       "</style>\n",
       "<table border=\"1\" class=\"dataframe\">\n",
       "  <thead>\n",
       "    <tr style=\"text-align: right;\">\n",
       "      <th></th>\n",
       "      <th>Country</th>\n",
       "      <th>Continent</th>\n",
       "      <th>female literacy</th>\n",
       "      <th>fertility</th>\n",
       "      <th>population</th>\n",
       "    </tr>\n",
       "  </thead>\n",
       "  <tbody>\n",
       "    <tr>\n",
       "      <th>0</th>\n",
       "      <td>Chine</td>\n",
       "      <td>ASI</td>\n",
       "      <td>90.5</td>\n",
       "      <td>1.769</td>\n",
       "      <td>1,324,655,000</td>\n",
       "    </tr>\n",
       "    <tr>\n",
       "      <th>1</th>\n",
       "      <td>Inde</td>\n",
       "      <td>ASI</td>\n",
       "      <td>50.8</td>\n",
       "      <td>2.682</td>\n",
       "      <td>1,139,964,932</td>\n",
       "    </tr>\n",
       "    <tr>\n",
       "      <th>2</th>\n",
       "      <td>USA</td>\n",
       "      <td>NAM</td>\n",
       "      <td>99.0</td>\n",
       "      <td>2.077</td>\n",
       "      <td>304,060,000</td>\n",
       "    </tr>\n",
       "    <tr>\n",
       "      <th>3</th>\n",
       "      <td>Indonésie</td>\n",
       "      <td>ASI</td>\n",
       "      <td>88.8</td>\n",
       "      <td>2.132</td>\n",
       "      <td>227,345,082</td>\n",
       "    </tr>\n",
       "    <tr>\n",
       "      <th>4</th>\n",
       "      <td>Brésil</td>\n",
       "      <td>LAT</td>\n",
       "      <td>90.2</td>\n",
       "      <td>1.827</td>\n",
       "      <td>191,971,506</td>\n",
       "    </tr>\n",
       "  </tbody>\n",
       "</table>\n",
       "</div>"
      ],
      "text/plain": [
       "    Country  Continent  female literacy  fertility     population\n",
       "0      Chine       ASI             90.5      1.769  1,324,655,000\n",
       "1       Inde       ASI             50.8      2.682  1,139,964,932\n",
       "2        USA       NAM             99.0      2.077    304,060,000\n",
       "3  Indonésie       ASI             88.8      2.132    227,345,082\n",
       "4     Brésil       LAT             90.2      1.827    191,971,506"
      ]
     },
     "execution_count": 98,
     "metadata": {},
     "output_type": "execute_result"
    }
   ],
   "source": [
    "df.head(5)"
   ]
  },
  {
   "cell_type": "code",
   "execution_count": 62,
   "metadata": {},
   "outputs": [
    {
     "data": {
      "text/plain": [
       "AF       49\n",
       "ASI      47\n",
       "EUR      36\n",
       "LAT      24\n",
       "NaN       5\n",
       "OCE       4\n",
       "NAM       2\n",
       "WORLD     1\n",
       "Name: Continent, dtype: int64"
      ]
     },
     "execution_count": 62,
     "metadata": {},
     "output_type": "execute_result"
    }
   ],
   "source": [
    "##Revisando frecuencias\n",
    "##Agrupamientos por columna\n",
    "df.Continent.value_counts(dropna=False)"
   ]
  },
  {
   "cell_type": "code",
   "execution_count": 22,
   "metadata": {},
   "outputs": [
    {
     "data": {
      "text/plain": [
       "AF       49\n",
       "ASI      47\n",
       "EUR      36\n",
       "LAT      24\n",
       "NaN       5\n",
       "OCE       4\n",
       "NAM       2\n",
       "WORLD     1\n",
       "Name: Continent, dtype: int64"
      ]
     },
     "execution_count": 22,
     "metadata": {},
     "output_type": "execute_result"
    }
   ],
   "source": [
    "##Agrupamientos por columna\n",
    "df['Continent'].value_counts(dropna=False)"
   ]
  },
  {
   "cell_type": "code",
   "execution_count": 29,
   "metadata": {},
   "outputs": [
    {
     "data": {
      "text/plain": [
       "Viet Nam     1\n",
       "Ouganda      1\n",
       "Sri Lanka    1\n",
       "Bahamas      1\n",
       "Espagne      1\n",
       "Name: Country , dtype: int64"
      ]
     },
     "execution_count": 29,
     "metadata": {},
     "output_type": "execute_result"
    }
   ],
   "source": [
    "##Tenemos un error en la cabecera\n",
    "df['Country '].value_counts(dropna=False).head()"
   ]
  },
  {
   "cell_type": "code",
   "execution_count": 30,
   "metadata": {},
   "outputs": [],
   "source": [
    "##Renombrando la columna \n",
    "df.rename(columns = {'Country ':'Country'}, inplace=True)"
   ]
  },
  {
   "cell_type": "code",
   "execution_count": 67,
   "metadata": {},
   "outputs": [
    {
     "data": {
      "text/plain": [
       "Viet Nam     1\n",
       "Ouganda      1\n",
       "Sri Lanka    1\n",
       "Bahamas      1\n",
       "Espagne      1\n",
       "Name: Country, dtype: int64"
      ]
     },
     "execution_count": 67,
     "metadata": {},
     "output_type": "execute_result"
    }
   ],
   "source": [
    "df['Country'].value_counts(dropna=False).head()"
   ]
  },
  {
   "cell_type": "code",
   "execution_count": 68,
   "metadata": {},
   "outputs": [
    {
     "data": {
      "text/plain": [
       "NaN       6\n",
       " 1.854    2\n",
       " 1.841    2\n",
       " 1.393    2\n",
       " 1.436    2\n",
       "Name: fertility, dtype: int64"
      ]
     },
     "execution_count": 68,
     "metadata": {},
     "output_type": "execute_result"
    }
   ],
   "source": [
    "df.fertility.value_counts(dropna=False).head()"
   ]
  },
  {
   "cell_type": "code",
   "execution_count": 99,
   "metadata": {},
   "outputs": [
    {
     "data": {
      "text/plain": [
       "NaN           6\n",
       "41,347,723    1\n",
       "3,793,400     1\n",
       "11,237,094    1\n",
       "643,571       1\n",
       "Name: population, dtype: int64"
      ]
     },
     "execution_count": 99,
     "metadata": {},
     "output_type": "execute_result"
    }
   ],
   "source": [
    "df.population.value_counts(dropna=False).head()"
   ]
  },
  {
   "cell_type": "code",
   "execution_count": null,
   "metadata": {},
   "outputs": [],
   "source": [
    "##Resumen estadistico\n",
    "##Numero de columnas\n",
    "#Outliers\n",
    "#Considerably higher or lower\n",
    "#Require further investigation"
   ]
  },
  {
   "cell_type": "code",
   "execution_count": 45,
   "metadata": {},
   "outputs": [
    {
     "data": {
      "text/html": [
       "<div>\n",
       "<style scoped>\n",
       "    .dataframe tbody tr th:only-of-type {\n",
       "        vertical-align: middle;\n",
       "    }\n",
       "\n",
       "    .dataframe tbody tr th {\n",
       "        vertical-align: top;\n",
       "    }\n",
       "\n",
       "    .dataframe thead th {\n",
       "        text-align: right;\n",
       "    }\n",
       "</style>\n",
       "<table border=\"1\" class=\"dataframe\">\n",
       "  <thead>\n",
       "    <tr style=\"text-align: right;\">\n",
       "      <th></th>\n",
       "      <th>female literacy</th>\n",
       "    </tr>\n",
       "  </thead>\n",
       "  <tbody>\n",
       "    <tr>\n",
       "      <th>count</th>\n",
       "      <td>168.000000</td>\n",
       "    </tr>\n",
       "    <tr>\n",
       "      <th>mean</th>\n",
       "      <td>80.549405</td>\n",
       "    </tr>\n",
       "    <tr>\n",
       "      <th>std</th>\n",
       "      <td>22.797066</td>\n",
       "    </tr>\n",
       "    <tr>\n",
       "      <th>min</th>\n",
       "      <td>12.600000</td>\n",
       "    </tr>\n",
       "    <tr>\n",
       "      <th>25%</th>\n",
       "      <td>67.550000</td>\n",
       "    </tr>\n",
       "    <tr>\n",
       "      <th>50%</th>\n",
       "      <td>90.300000</td>\n",
       "    </tr>\n",
       "    <tr>\n",
       "      <th>75%</th>\n",
       "      <td>98.500000</td>\n",
       "    </tr>\n",
       "    <tr>\n",
       "      <th>max</th>\n",
       "      <td>100.000000</td>\n",
       "    </tr>\n",
       "  </tbody>\n",
       "</table>\n",
       "</div>"
      ],
      "text/plain": [
       "       female literacy\n",
       "count       168.000000\n",
       "mean         80.549405\n",
       "std          22.797066\n",
       "min          12.600000\n",
       "25%          67.550000\n",
       "50%          90.300000\n",
       "75%          98.500000\n",
       "max         100.000000"
      ]
     },
     "execution_count": 45,
     "metadata": {},
     "output_type": "execute_result"
    }
   ],
   "source": [
    "##Visual exploratory data analysis\n",
    "#Data visualization\n",
    "# Great way to spot outliers and obvious errors\n",
    "# More than just looking for pa!erns\n",
    "# Plan data cleaning steps\n",
    "df.describe()"
   ]
  },
  {
   "cell_type": "code",
   "execution_count": 71,
   "metadata": {},
   "outputs": [],
   "source": [
    "## Bar plots and histograms\n",
    "# Bar plots for discrete data counts\n",
    "# Histograms for continuous data counts\n",
    "# Look at frequencies\n",
    "\n",
    "##Vamos a importar el archivo correcto\n",
    "df2 = pd.read_csv('literary_birth_rate_new.csv', sep=',')\n",
    "\n",
    "\n"
   ]
  },
  {
   "cell_type": "code",
   "execution_count": 102,
   "metadata": {},
   "outputs": [
    {
     "name": "stdout",
     "output_type": "stream",
     "text": [
      "<class 'pandas.core.frame.DataFrame'>\n",
      "RangeIndex: 169 entries, 0 to 168\n",
      "Data columns (total 5 columns):\n",
      "Country            169 non-null object\n",
      "Continent          164 non-null object\n",
      "female literacy    169 non-null float64\n",
      "fertility          168 non-null object\n",
      "population         163 non-null float64\n",
      "dtypes: float64(2), object(3)\n",
      "memory usage: 4.7+ KB\n"
     ]
    }
   ],
   "source": [
    "df2.info()"
   ]
  },
  {
   "cell_type": "code",
   "execution_count": 101,
   "metadata": {},
   "outputs": [
    {
     "data": {
      "text/plain": [
       "<matplotlib.axes._subplots.AxesSubplot at 0x126c690>"
      ]
     },
     "execution_count": 101,
     "metadata": {},
     "output_type": "execute_result"
    },
    {
     "data": {
      "image/png": "[encoded data removed]",
      "text/plain": [
       "<Figure size 432x288 with 1 Axes>"
      ]
     },
     "metadata": {
      "needs_background": "light"
     },
     "output_type": "display_data"
    }
   ],
   "source": [
    "import matplotlib.pyplot as plt\n",
    "df2.population.plot('hist')\n",
    "##frecuencia\n",
    "##eje x de mil millones\n",
    "#eje y cantidad"
   ]
  },
  {
   "cell_type": "code",
   "execution_count": 109,
   "metadata": {},
   "outputs": [
    {
     "data": {
      "text/html": [
       "<div>\n",
       "<style scoped>\n",
       "    .dataframe tbody tr th:only-of-type {\n",
       "        vertical-align: middle;\n",
       "    }\n",
       "\n",
       "    .dataframe tbody tr th {\n",
       "        vertical-align: top;\n",
       "    }\n",
       "\n",
       "    .dataframe thead th {\n",
       "        text-align: right;\n",
       "    }\n",
       "</style>\n",
       "<table border=\"1\" class=\"dataframe\">\n",
       "  <thead>\n",
       "    <tr style=\"text-align: right;\">\n",
       "      <th></th>\n",
       "      <th>Country</th>\n",
       "      <th>Continent</th>\n",
       "      <th>female literacy</th>\n",
       "      <th>fertility</th>\n",
       "      <th>population</th>\n",
       "    </tr>\n",
       "  </thead>\n",
       "  <tbody>\n",
       "    <tr>\n",
       "      <th>0</th>\n",
       "      <td>Chine</td>\n",
       "      <td>ASI</td>\n",
       "      <td>90.5</td>\n",
       "      <td>1.769</td>\n",
       "      <td>1.324655e+09</td>\n",
       "    </tr>\n",
       "    <tr>\n",
       "      <th>1</th>\n",
       "      <td>Inde</td>\n",
       "      <td>ASI</td>\n",
       "      <td>50.8</td>\n",
       "      <td>2.682</td>\n",
       "      <td>1.139965e+09</td>\n",
       "    </tr>\n",
       "    <tr>\n",
       "      <th>162</th>\n",
       "      <td>Australia</td>\n",
       "      <td>OCE</td>\n",
       "      <td>96.0</td>\n",
       "      <td>1.93</td>\n",
       "      <td>2.313000e+09</td>\n",
       "    </tr>\n",
       "  </tbody>\n",
       "</table>\n",
       "</div>"
      ],
      "text/plain": [
       "       Country Continent  female literacy fertility    population\n",
       "0        Chine       ASI             90.5     1.769  1.324655e+09\n",
       "1         Inde       ASI             50.8     2.682  1.139965e+09\n",
       "162  Australia       OCE             96.0      1.93  2.313000e+09"
      ]
     },
     "execution_count": 109,
     "metadata": {},
     "output_type": "execute_result"
    }
   ],
   "source": [
    "##Identificando el error \n",
    "df2[df2.population > 1000000000]\n",
    "##no todos los outliers son puntos malos\n",
    "##algunos son valores validos"
   ]
  },
  {
   "cell_type": "code",
   "execution_count": 110,
   "metadata": {},
   "outputs": [],
   "source": [
    "##Box plots\n",
    "##Visualize basic summary statistics\n",
    "# Outliers\n",
    "# Min/max\n",
    "# 25th, 50th, 75th percentiles"
   ]
  },
  {
   "cell_type": "code",
   "execution_count": 113,
   "metadata": {},
   "outputs": [
    {
     "data": {
      "text/plain": [
       "<matplotlib.axes._subplots.AxesSubplot at 0x1bdd5b0>"
      ]
     },
     "execution_count": 113,
     "metadata": {},
     "output_type": "execute_result"
    },
    {
     "data": {
      "image/png": "[encoded data removed]",
      "text/plain": [
       "<Figure size 432x288 with 1 Axes>"
      ]
     },
     "metadata": {
      "needs_background": "light"
     },
     "output_type": "display_data"
    }
   ],
   "source": [
    "df2.boxplot(column='population', by='Continent')"
   ]
  },
  {
   "cell_type": "code",
   "execution_count": 120,
   "metadata": {},
   "outputs": [
    {
     "data": {
      "text/html": [
       "<div>\n",
       "<style scoped>\n",
       "    .dataframe tbody tr th:only-of-type {\n",
       "        vertical-align: middle;\n",
       "    }\n",
       "\n",
       "    .dataframe tbody tr th {\n",
       "        vertical-align: top;\n",
       "    }\n",
       "\n",
       "    .dataframe thead th {\n",
       "        text-align: right;\n",
       "    }\n",
       "</style>\n",
       "<table border=\"1\" class=\"dataframe\">\n",
       "  <thead>\n",
       "    <tr style=\"text-align: right;\">\n",
       "      <th></th>\n",
       "      <th>Country</th>\n",
       "      <th>Continent</th>\n",
       "      <th>female literacy</th>\n",
       "      <th>fertility</th>\n",
       "      <th>population</th>\n",
       "    </tr>\n",
       "  </thead>\n",
       "  <tbody>\n",
       "    <tr>\n",
       "      <th>0</th>\n",
       "      <td>Chine</td>\n",
       "      <td>ASI</td>\n",
       "      <td>90.5</td>\n",
       "      <td>1.769</td>\n",
       "      <td>1.324655e+09</td>\n",
       "    </tr>\n",
       "    <tr>\n",
       "      <th>1</th>\n",
       "      <td>Inde</td>\n",
       "      <td>ASI</td>\n",
       "      <td>50.8</td>\n",
       "      <td>2.682</td>\n",
       "      <td>1.139965e+09</td>\n",
       "    </tr>\n",
       "    <tr>\n",
       "      <th>3</th>\n",
       "      <td>Indonésie</td>\n",
       "      <td>ASI</td>\n",
       "      <td>88.8</td>\n",
       "      <td>2.132</td>\n",
       "      <td>2.273451e+08</td>\n",
       "    </tr>\n",
       "    <tr>\n",
       "      <th>5</th>\n",
       "      <td>Pakistan</td>\n",
       "      <td>ASI</td>\n",
       "      <td>40.0</td>\n",
       "      <td>3.872</td>\n",
       "      <td>1.661115e+08</td>\n",
       "    </tr>\n",
       "    <tr>\n",
       "      <th>6</th>\n",
       "      <td>Bangladesh</td>\n",
       "      <td>ASI</td>\n",
       "      <td>49.8</td>\n",
       "      <td>2.288</td>\n",
       "      <td>1.600001e+08</td>\n",
       "    </tr>\n",
       "    <tr>\n",
       "      <th>9</th>\n",
       "      <td>Japan</td>\n",
       "      <td>ASI</td>\n",
       "      <td>99.0</td>\n",
       "      <td>1.262</td>\n",
       "      <td>1.277040e+08</td>\n",
       "    </tr>\n",
       "    <tr>\n",
       "      <th>11</th>\n",
       "      <td>Philippines</td>\n",
       "      <td>ASI</td>\n",
       "      <td>93.9</td>\n",
       "      <td>3.026</td>\n",
       "      <td>9.034844e+07</td>\n",
       "    </tr>\n",
       "    <tr>\n",
       "      <th>12</th>\n",
       "      <td>Viet Nam</td>\n",
       "      <td>ASI</td>\n",
       "      <td>90.2</td>\n",
       "      <td>2.033</td>\n",
       "      <td>8.621078e+07</td>\n",
       "    </tr>\n",
       "    <tr>\n",
       "      <th>16</th>\n",
       "      <td>Turquie</td>\n",
       "      <td>ASI</td>\n",
       "      <td>81.3</td>\n",
       "      <td>2.1</td>\n",
       "      <td>7.391426e+07</td>\n",
       "    </tr>\n",
       "    <tr>\n",
       "      <th>17</th>\n",
       "      <td>Iran, République islamique d'</td>\n",
       "      <td>ASI</td>\n",
       "      <td>77.2</td>\n",
       "      <td>1.781</td>\n",
       "      <td>7.195632e+07</td>\n",
       "    </tr>\n",
       "    <tr>\n",
       "      <th>18</th>\n",
       "      <td>Thaïlande</td>\n",
       "      <td>ASI</td>\n",
       "      <td>91.5</td>\n",
       "      <td>1.822</td>\n",
       "      <td>6.738638e+07</td>\n",
       "    </tr>\n",
       "    <tr>\n",
       "      <th>23</th>\n",
       "      <td>Myanmar</td>\n",
       "      <td>ASI</td>\n",
       "      <td>89.2</td>\n",
       "      <td>2.281</td>\n",
       "      <td>4.956302e+07</td>\n",
       "    </tr>\n",
       "    <tr>\n",
       "      <th>25</th>\n",
       "      <td>South Korea</td>\n",
       "      <td>ASI</td>\n",
       "      <td>96.6</td>\n",
       "      <td>1.224</td>\n",
       "      <td>4.860700e+07</td>\n",
       "    </tr>\n",
       "    <tr>\n",
       "      <th>38</th>\n",
       "      <td>Iraq</td>\n",
       "      <td>ASI</td>\n",
       "      <td>69.2</td>\n",
       "      <td>3.961</td>\n",
       "      <td>3.071115e+07</td>\n",
       "    </tr>\n",
       "    <tr>\n",
       "      <th>39</th>\n",
       "      <td>Afghanistan</td>\n",
       "      <td>ASI</td>\n",
       "      <td>12.6</td>\n",
       "      <td>6.505</td>\n",
       "      <td>2.902110e+07</td>\n",
       "    </tr>\n",
       "    <tr>\n",
       "      <th>41</th>\n",
       "      <td>Népal</td>\n",
       "      <td>ASI</td>\n",
       "      <td>45.4</td>\n",
       "      <td>2.823</td>\n",
       "      <td>2.880953e+07</td>\n",
       "    </tr>\n",
       "    <tr>\n",
       "      <th>43</th>\n",
       "      <td>Ouzbékistan</td>\n",
       "      <td>ASI</td>\n",
       "      <td>98.9</td>\n",
       "      <td>2.248</td>\n",
       "      <td>2.731370e+07</td>\n",
       "    </tr>\n",
       "    <tr>\n",
       "      <th>44</th>\n",
       "      <td>Malaisie</td>\n",
       "      <td>ASI</td>\n",
       "      <td>89.8</td>\n",
       "      <td>2.508</td>\n",
       "      <td>2.701434e+07</td>\n",
       "    </tr>\n",
       "    <tr>\n",
       "      <th>45</th>\n",
       "      <td>Arabie saoudite</td>\n",
       "      <td>ASI</td>\n",
       "      <td>80.2</td>\n",
       "      <td>3.04</td>\n",
       "      <td>2.464569e+07</td>\n",
       "    </tr>\n",
       "    <tr>\n",
       "      <th>46</th>\n",
       "      <td>Rép. populaire démocratique de Corée</td>\n",
       "      <td>ASI</td>\n",
       "      <td>100.0</td>\n",
       "      <td>1.854</td>\n",
       "      <td>2.381875e+07</td>\n",
       "    </tr>\n",
       "    <tr>\n",
       "      <th>48</th>\n",
       "      <td>Yémen</td>\n",
       "      <td>ASI</td>\n",
       "      <td>42.8</td>\n",
       "      <td>5.1</td>\n",
       "      <td>2.291748e+07</td>\n",
       "    </tr>\n",
       "    <tr>\n",
       "      <th>52</th>\n",
       "      <td>République arabe syrienne</td>\n",
       "      <td>ASI</td>\n",
       "      <td>77.2</td>\n",
       "      <td>3.173</td>\n",
       "      <td>2.058129e+07</td>\n",
       "    </tr>\n",
       "    <tr>\n",
       "      <th>53</th>\n",
       "      <td>Sri Lanka</td>\n",
       "      <td>ASI</td>\n",
       "      <td>89.1</td>\n",
       "      <td>2.308</td>\n",
       "      <td>2.015620e+07</td>\n",
       "    </tr>\n",
       "    <tr>\n",
       "      <th>59</th>\n",
       "      <td>Kazakhstan</td>\n",
       "      <td>ASI</td>\n",
       "      <td>99.5</td>\n",
       "      <td>2.294</td>\n",
       "      <td>1.567483e+07</td>\n",
       "    </tr>\n",
       "    <tr>\n",
       "      <th>63</th>\n",
       "      <td>Cambodge</td>\n",
       "      <td>ASI</td>\n",
       "      <td>70.9</td>\n",
       "      <td>2.859</td>\n",
       "      <td>1.456201e+07</td>\n",
       "    </tr>\n",
       "    <tr>\n",
       "      <th>84</th>\n",
       "      <td>Azerbaïdjan</td>\n",
       "      <td>ASI</td>\n",
       "      <td>99.2</td>\n",
       "      <td>2.153</td>\n",
       "      <td>8.680100e+06</td>\n",
       "    </tr>\n",
       "    <tr>\n",
       "      <th>91</th>\n",
       "      <td>Israel</td>\n",
       "      <td>ASI</td>\n",
       "      <td>95.9</td>\n",
       "      <td>2.752</td>\n",
       "      <td>7.308800e+06</td>\n",
       "    </tr>\n",
       "    <tr>\n",
       "      <th>92</th>\n",
       "      <td>Tadjikistan</td>\n",
       "      <td>ASI</td>\n",
       "      <td>99.5</td>\n",
       "      <td>3.35</td>\n",
       "      <td>6.836083e+06</td>\n",
       "    </tr>\n",
       "    <tr>\n",
       "      <th>97</th>\n",
       "      <td>Rép. démocratique populaire lao</td>\n",
       "      <td>ASI</td>\n",
       "      <td>63.2</td>\n",
       "      <td>3.415</td>\n",
       "      <td>6.205341e+06</td>\n",
       "    </tr>\n",
       "    <tr>\n",
       "      <th>99</th>\n",
       "      <td>Jordanie</td>\n",
       "      <td>ASI</td>\n",
       "      <td>88.9</td>\n",
       "      <td>3.019</td>\n",
       "      <td>5.906043e+06</td>\n",
       "    </tr>\n",
       "    <tr>\n",
       "      <th>104</th>\n",
       "      <td>Kirghizistan</td>\n",
       "      <td>ASI</td>\n",
       "      <td>99.1</td>\n",
       "      <td>2.518</td>\n",
       "      <td>5.277900e+06</td>\n",
       "    </tr>\n",
       "    <tr>\n",
       "      <th>105</th>\n",
       "      <td>Turkménistan</td>\n",
       "      <td>ASI</td>\n",
       "      <td>99.3</td>\n",
       "      <td>2.43</td>\n",
       "      <td>5.043618e+06</td>\n",
       "    </tr>\n",
       "    <tr>\n",
       "      <th>107</th>\n",
       "      <td>Singapour</td>\n",
       "      <td>ASI</td>\n",
       "      <td>91.6</td>\n",
       "      <td>1.263</td>\n",
       "      <td>4.839400e+06</td>\n",
       "    </tr>\n",
       "    <tr>\n",
       "      <th>110</th>\n",
       "      <td>Emirats arabes unis</td>\n",
       "      <td>ASI</td>\n",
       "      <td>91.5</td>\n",
       "      <td>1.899</td>\n",
       "      <td>4.484935e+06</td>\n",
       "    </tr>\n",
       "    <tr>\n",
       "      <th>114</th>\n",
       "      <td>Géorgie</td>\n",
       "      <td>ASI</td>\n",
       "      <td>99.7</td>\n",
       "      <td>1.582</td>\n",
       "      <td>4.307011e+06</td>\n",
       "    </tr>\n",
       "    <tr>\n",
       "      <th>116</th>\n",
       "      <td>Liban</td>\n",
       "      <td>ASI</td>\n",
       "      <td>86.0</td>\n",
       "      <td>1.841</td>\n",
       "      <td>4.193758e+06</td>\n",
       "    </tr>\n",
       "    <tr>\n",
       "      <th>125</th>\n",
       "      <td>Arménie</td>\n",
       "      <td>ASI</td>\n",
       "      <td>99.4</td>\n",
       "      <td>1.748</td>\n",
       "      <td>3.077087e+06</td>\n",
       "    </tr>\n",
       "    <tr>\n",
       "      <th>126</th>\n",
       "      <td>Oman</td>\n",
       "      <td>ASI</td>\n",
       "      <td>80.9</td>\n",
       "      <td>2.978</td>\n",
       "      <td>2.785361e+06</td>\n",
       "    </tr>\n",
       "    <tr>\n",
       "      <th>127</th>\n",
       "      <td>Koweït</td>\n",
       "      <td>ASI</td>\n",
       "      <td>93.1</td>\n",
       "      <td>2.152</td>\n",
       "      <td>2.728041e+06</td>\n",
       "    </tr>\n",
       "    <tr>\n",
       "      <th>129</th>\n",
       "      <td>Mongolie</td>\n",
       "      <td>ASI</td>\n",
       "      <td>97.8</td>\n",
       "      <td>1.988</td>\n",
       "      <td>2.641216e+06</td>\n",
       "    </tr>\n",
       "    <tr>\n",
       "      <th>141</th>\n",
       "      <td>Qatar</td>\n",
       "      <td>ASI</td>\n",
       "      <td>90.4</td>\n",
       "      <td>2.36</td>\n",
       "      <td>1.280862e+06</td>\n",
       "    </tr>\n",
       "    <tr>\n",
       "      <th>145</th>\n",
       "      <td>Bahreïn</td>\n",
       "      <td>ASI</td>\n",
       "      <td>89.4</td>\n",
       "      <td>2.233</td>\n",
       "      <td>7.755850e+05</td>\n",
       "    </tr>\n",
       "    <tr>\n",
       "      <th>146</th>\n",
       "      <td>Bhoutan</td>\n",
       "      <td>ASI</td>\n",
       "      <td>38.7</td>\n",
       "      <td>2.563</td>\n",
       "      <td>6.867890e+05</td>\n",
       "    </tr>\n",
       "    <tr>\n",
       "      <th>149</th>\n",
       "      <td>Macao, Chine</td>\n",
       "      <td>ASI</td>\n",
       "      <td>90.7</td>\n",
       "      <td>0.966</td>\n",
       "      <td>5.261780e+05</td>\n",
       "    </tr>\n",
       "    <tr>\n",
       "      <th>153</th>\n",
       "      <td>Brunéi Darussalam</td>\n",
       "      <td>ASI</td>\n",
       "      <td>93.3</td>\n",
       "      <td>2.052</td>\n",
       "      <td>3.922800e+05</td>\n",
       "    </tr>\n",
       "    <tr>\n",
       "      <th>156</th>\n",
       "      <td>Maldives</td>\n",
       "      <td>ASI</td>\n",
       "      <td>98.4</td>\n",
       "      <td>2</td>\n",
       "      <td>3.050270e+05</td>\n",
       "    </tr>\n",
       "    <tr>\n",
       "      <th>161</th>\n",
       "      <td>Tonga</td>\n",
       "      <td>ASI</td>\n",
       "      <td>99.1</td>\n",
       "      <td>3.928</td>\n",
       "      <td>1.035660e+05</td>\n",
       "    </tr>\n",
       "  </tbody>\n",
       "</table>\n",
       "</div>"
      ],
      "text/plain": [
       "                                  Country Continent  female literacy  \\\n",
       "0                                   Chine       ASI             90.5   \n",
       "1                                    Inde       ASI             50.8   \n",
       "3                               Indonésie       ASI             88.8   \n",
       "5                                Pakistan       ASI             40.0   \n",
       "6                              Bangladesh       ASI             49.8   \n",
       "9                                   Japan       ASI             99.0   \n",
       "11                            Philippines       ASI             93.9   \n",
       "12                               Viet Nam       ASI             90.2   \n",
       "16                                Turquie       ASI             81.3   \n",
       "17          Iran, République islamique d'       ASI             77.2   \n",
       "18                              Thaïlande       ASI             91.5   \n",
       "23                                Myanmar       ASI             89.2   \n",
       "25                            South Korea       ASI             96.6   \n",
       "38                                   Iraq       ASI             69.2   \n",
       "39                            Afghanistan       ASI             12.6   \n",
       "41                                  Népal       ASI             45.4   \n",
       "43                            Ouzbékistan       ASI             98.9   \n",
       "44                               Malaisie       ASI             89.8   \n",
       "45                        Arabie saoudite       ASI             80.2   \n",
       "46   Rép. populaire démocratique de Corée       ASI            100.0   \n",
       "48                                  Yémen       ASI             42.8   \n",
       "52              République arabe syrienne       ASI             77.2   \n",
       "53                              Sri Lanka       ASI             89.1   \n",
       "59                             Kazakhstan       ASI             99.5   \n",
       "63                               Cambodge       ASI             70.9   \n",
       "84                            Azerbaïdjan       ASI             99.2   \n",
       "91                                 Israel       ASI             95.9   \n",
       "92                            Tadjikistan       ASI             99.5   \n",
       "97        Rép. démocratique populaire lao       ASI             63.2   \n",
       "99                               Jordanie       ASI             88.9   \n",
       "104                          Kirghizistan       ASI             99.1   \n",
       "105                          Turkménistan       ASI             99.3   \n",
       "107                             Singapour       ASI             91.6   \n",
       "110                   Emirats arabes unis       ASI             91.5   \n",
       "114                               Géorgie       ASI             99.7   \n",
       "116                                 Liban       ASI             86.0   \n",
       "125                               Arménie       ASI             99.4   \n",
       "126                                  Oman       ASI             80.9   \n",
       "127                                Koweït       ASI             93.1   \n",
       "129                              Mongolie       ASI             97.8   \n",
       "141                                 Qatar       ASI             90.4   \n",
       "145                               Bahreïn       ASI             89.4   \n",
       "146                               Bhoutan       ASI             38.7   \n",
       "149                          Macao, Chine       ASI             90.7   \n",
       "153                     Brunéi Darussalam       ASI             93.3   \n",
       "156                              Maldives       ASI             98.4   \n",
       "161                                 Tonga       ASI             99.1   \n",
       "\n",
       "    fertility    population  \n",
       "0       1.769  1.324655e+09  \n",
       "1       2.682  1.139965e+09  \n",
       "3       2.132  2.273451e+08  \n",
       "5       3.872  1.661115e+08  \n",
       "6       2.288  1.600001e+08  \n",
       "9       1.262  1.277040e+08  \n",
       "11      3.026  9.034844e+07  \n",
       "12      2.033  8.621078e+07  \n",
       "16        2.1  7.391426e+07  \n",
       "17      1.781  7.195632e+07  \n",
       "18      1.822  6.738638e+07  \n",
       "23      2.281  4.956302e+07  \n",
       "25      1.224  4.860700e+07  \n",
       "38      3.961  3.071115e+07  \n",
       "39      6.505  2.902110e+07  \n",
       "41      2.823  2.880953e+07  \n",
       "43      2.248  2.731370e+07  \n",
       "44      2.508  2.701434e+07  \n",
       "45       3.04  2.464569e+07  \n",
       "46      1.854  2.381875e+07  \n",
       "48        5.1  2.291748e+07  \n",
       "52      3.173  2.058129e+07  \n",
       "53      2.308  2.015620e+07  \n",
       "59      2.294  1.567483e+07  \n",
       "63      2.859  1.456201e+07  \n",
       "84      2.153  8.680100e+06  \n",
       "91      2.752  7.308800e+06  \n",
       "92       3.35  6.836083e+06  \n",
       "97      3.415  6.205341e+06  \n",
       "99      3.019  5.906043e+06  \n",
       "104     2.518  5.277900e+06  \n",
       "105      2.43  5.043618e+06  \n",
       "107     1.263  4.839400e+06  \n",
       "110     1.899  4.484935e+06  \n",
       "114     1.582  4.307011e+06  \n",
       "116     1.841  4.193758e+06  \n",
       "125     1.748  3.077087e+06  \n",
       "126     2.978  2.785361e+06  \n",
       "127     2.152  2.728041e+06  \n",
       "129     1.988  2.641216e+06  \n",
       "141      2.36  1.280862e+06  \n",
       "145     2.233  7.755850e+05  \n",
       "146     2.563  6.867890e+05  \n",
       "149     0.966  5.261780e+05  \n",
       "153     2.052  3.922800e+05  \n",
       "156         2  3.050270e+05  \n",
       "161     3.928  1.035660e+05  "
      ]
     },
     "execution_count": 120,
     "metadata": {},
     "output_type": "execute_result"
    }
   ],
   "source": [
    "df2[df2.Continent=='ASI']"
   ]
  },
  {
   "cell_type": "code",
   "execution_count": null,
   "metadata": {},
   "outputs": [],
   "source": [
    "##Sca!er plots\n",
    "# Relationship between 2 numeric variables\n",
    "# Flag potentially bad data\n",
    "# Errors not found by looking at 1 variable"
   ]
  }
 ],
 "metadata": {
  "kernelspec": {
   "display_name": "Python 3",
   "language": "python",
   "name": "python3"
  },
  "language_info": {
   "codemirror_mode": {
    "name": "ipython",
    "version": 3
   },
   "file_extension": ".py",
   "mimetype": "text/x-python",
   "name": "python",
   "nbconvert_exporter": "python",
   "pygments_lexer": "ipython3",
   "version": "3.6.7rc1"
  }
 },
 "nbformat": 4,
 "nbformat_minor": 2
}
